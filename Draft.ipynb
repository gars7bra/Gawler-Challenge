{
 "cells": [
  {
   "cell_type": "markdown",
   "metadata": {},
   "source": [
    "### IMPORTING LIBRARIES"
   ]
  },
  {
   "cell_type": "code",
   "execution_count": 2,
   "metadata": {},
   "outputs": [],
   "source": [
    "import numpy as np\n",
    "import pandas as pd\n",
    "import matplotlib.pyplot as plt\n",
    "import seaborn as sns"
   ]
  },
  {
   "cell_type": "code",
   "execution_count": 3,
   "metadata": {},
   "outputs": [],
   "source": [
    "import geopandas as gpd\n",
    "from shapely.geometry import Point\n",
    "from shapely.geometry import Polygon\n",
    "import os"
   ]
  },
  {
   "cell_type": "code",
   "execution_count": 4,
   "metadata": {},
   "outputs": [],
   "source": [
    "%matplotlib inline"
   ]
  },
  {
   "cell_type": "markdown",
   "metadata": {},
   "source": [
    "### READING THE BOUNDARY SHP INTO GEOPANDAS AND PLOTTING IT"
   ]
  },
  {
   "cell_type": "code",
   "execution_count": 8,
   "metadata": {},
   "outputs": [],
   "source": [
    "boundary = gpd.read_file(r\"C:\\Users\\gabri\\Gawler Challenge 2020\\Project Outline\\GCAS_Boundary.shp\")"
   ]
  },
  {
   "cell_type": "code",
   "execution_count": 18,
   "metadata": {},
   "outputs": [
    {
     "data": {
      "text/plain": [
       "Text(46.087764124572615, 0.5, 'LONGITUDE')"
      ]
     },
     "execution_count": 18,
     "metadata": {},
     "output_type": "execute_result"
    },
    {
     "data": {
      "image/png": "[encoded data removed]",
      "text/plain": [
       "<Figure size 432x288 with 1 Axes>"
      ]
     },
     "metadata": {
      "needs_background": "light"
     },
     "output_type": "display_data"
    }
   ],
   "source": [
    "fig,ax = plt.subplots()\n",
    "boundary.plot(ax=ax)\n",
    "ax.set_xlim([125,144])\n",
    "ax.set_ylim([-35,-25])\n",
    "plt.xlabel(\"LATITUDE\")\n",
    "plt.ylabel(\"LONGITUDE\")"
   ]
  },
  {
   "cell_type": "markdown",
   "metadata": {},
   "source": [
    "### ACCESSING THE 10GB GEOCHEMISTRY DATASET BY CHUNKING IT INTO SMALLER CSV FILES"
   ]
  },
  {
   "cell_type": "code",
   "execution_count": null,
   "metadata": {},
   "outputs": [],
   "source": [
    "chunk_size = 500000\n",
    "batch_no = 1\n",
    "for chunk in pd.read_csv(\"sarig_rs_chem_exp.csv\",chunksize=chunk_size):\n",
    "    chunk.to_csv(\"sarig_rs_chem_exp\" + str(batch_no) + \".csv\",index=False)\n",
    "    batch_no +=1"
   ]
  },
  {
   "cell_type": "markdown",
   "metadata": {},
   "source": [
    "### READING THE CSVs ONE BY ONE AND CONVERTING THEM INTO GEODATAFRAMES (SPATIAL POINTS)"
   ]
  },
  {
   "cell_type": "code",
   "execution_count": 21,
   "metadata": {},
   "outputs": [
    {
     "ename": "SyntaxError",
     "evalue": "invalid syntax (<ipython-input-21-ffc2ec06625a>, line 5)",
     "output_type": "error",
     "traceback": [
      "\u001b[1;36m  File \u001b[1;32m\"<ipython-input-21-ffc2ec06625a>\"\u001b[1;36m, line \u001b[1;32m5\u001b[0m\n\u001b[1;33m    chem.append(d)\u001b[0m\n\u001b[1;37m       ^\u001b[0m\n\u001b[1;31mSyntaxError\u001b[0m\u001b[1;31m:\u001b[0m invalid syntax\n"
     ]
    }
   ],
   "source": [
    "chem = []\n",
    "for i in range(0,60):\n",
    "    c = pd.read_csv(\"sarig_rs_chem_exp\"+str(i+1)+\".csv\")\n",
    "    d = gpd.GeoDataFrame(c, geometry=gpd.points_from_xy(x=c.LATITUDE_GDA2020,y=c.LONGITUDE_GDA2020)\n",
    "    rdf = gpd.GeoDataFrame( pd.concat( dataframesList, ignore_index=True) )"
   ]
  },
  {
   "cell_type": "code",
   "execution_count": null,
   "metadata": {},
   "outputs": [],
   "source": []
  }
 ],
 "metadata": {
  "kernelspec": {
   "display_name": "Python3",
   "language": "python",
   "name": "python3"
  },
  "language_info": {
   "codemirror_mode": {
    "name": "ipython",
    "version": 3
   },
   "file_extension": ".py",
   "mimetype": "text/x-python",
   "name": "python",
   "nbconvert_exporter": "python",
   "pygments_lexer": "ipython3",
   "version": "3.7.7"
  }
 },
 "nbformat": 4,
 "nbformat_minor": 2
}
